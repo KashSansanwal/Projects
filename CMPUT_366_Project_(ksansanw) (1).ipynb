{
  "cells": [
    {
      "cell_type": "markdown",
      "source": [
        "Name: Kashish Sansanwal<br>\n",
        "Student ID: 1529527<br>\n",
        "CCID: ksansanw<br>\n",
        "Course: CMPUT 366 LEC A1 Fall 2021<br>\n",
        "Instructor:  Levi Santana de Lelis<br>\n",
        "\n"
      ],
      "metadata": {
        "id": "vedplToJahXz"
      }
    },
    {
      "cell_type": "markdown",
      "source": [
        "#**Image Classification Project using Convolutional Neural Network on CIFAR-10 dataset**\n",
        "---\n",
        "\n",
        "![picture](https://drive.google.com/uc?export=view&id=13eVmkm_vdy-uq1z3Bp021rJNkuD2me2F)\n",
        "---\n",
        "#INTRODUCTION\n",
        "---\n",
        "#What is this project about?\n",
        "This project is about correctly classifying images from **10 different classes** on a dataset of **50000 images**. This classification model will make use of **covolutional neural network**. This project will use **sparse categorical crossentropy** loss function which we studied in the class. We will compare two models, one without convolutional layers and one with convolutional layers and find out which performs better and why.\n",
        "\n",
        "#Topics covered in this project\n",
        "\n",
        "\n",
        "*   Multilayer Neural Network \n",
        "*   Convolution neural network\n",
        "*   Sequentional model in Keras\n",
        "*   ReLu activation function \n",
        "*   Sigmoid activation function\n",
        "*   Adam optimizer\n",
        "*   Epoch\n",
        "\n",
        "#Why is it important?\n",
        "This project is the basic stepping stone towards understanding computer vision and deep learning concepts. It is important to understand through this project the working of convolutional layers and convolutional neural network using cross entropy loss function to predict and classify the image between 10 different classes. \n",
        "\n"
      ],
      "metadata": {
        "id": "7S-ul7r0x8N7"
      }
    },
    {
      "cell_type": "markdown",
      "source": [
        "---\n",
        "#Evaluation\n",
        "---\n",
        "Import all the necessary libraries required for the project.\n",
        "\n",
        "\n",
        "*   Tensorflow\n",
        "*   Keras\n",
        "*   Matplotlib\n",
        "*   Numpy \n",
        "\n"
      ],
      "metadata": {
        "id": "C6s9GmeHAvdZ"
      }
    },
    {
      "cell_type": "code",
      "execution_count": 1,
      "metadata": {
        "id": "sARqhQ9VSTSF"
      },
      "outputs": [],
      "source": [
        "import tensorflow as tf\n",
        "from tensorflow.keras import datasets, layers, models\n",
        "import matplotlib.pyplot as plt\n",
        "import numpy as np"
      ]
    },
    {
      "cell_type": "markdown",
      "source": [
        "Load the CIFAR 10 dataset. The CIFAR-10 dataset consists of 60000 32x32 colour images in 10 classes, with 6000 images per class. There are 50000 training images and 10000 test images.\n"
      ],
      "metadata": {
        "id": "MI9eekB8Bi2b"
      }
    },
    {
      "cell_type": "code",
      "execution_count": 2,
      "metadata": {
        "colab": {
          "base_uri": "https://localhost:8080/"
        },
        "id": "coOM6jWySTSH",
        "outputId": "b8197345-5a66-486a-84a1-0ed6e4f48b20"
      },
      "outputs": [
        {
          "output_type": "stream",
          "name": "stdout",
          "text": [
            "Shape of training dataset  (50000, 32, 32, 3)\n",
            "Shape of testing dataset  (10000, 32, 32, 3)\n",
            "Shape of y_train  (50000, 1)\n",
            "Shape of y_test  (10000, 1)\n"
          ]
        }
      ],
      "source": [
        "(x_train, y_train), (x_test, y_test) = datasets.cifar10.load_data()\n",
        "print(\"Shape of training dataset \",x_train.shape)\n",
        "print(\"Shape of testing dataset \",x_test.shape)\n",
        "print(\"Shape of y_train \",y_train.shape)\n",
        "print(\"Shape of y_test \",y_test.shape)"
      ]
    },
    {
      "cell_type": "markdown",
      "source": [
        "\n",
        "*   x_train : It consists 50000 32x32 colour training images. <br>\n",
        "\n",
        "*   x_test : It consists 50000 32x32 colour testing images. <br>\n",
        "*   y_train : It consists the classes that each image is labelled in training  dataset. <br>\n",
        "*   y_test : It consists the classes that each image is labelled in testing dataset. <br>\n",
        "\n",
        "\n"
      ],
      "metadata": {
        "id": "W-6eT7OPC21S"
      }
    },
    {
      "cell_type": "code",
      "execution_count": 3,
      "metadata": {
        "id": "Ugcs3jsQSTSI",
        "colab": {
          "base_uri": "https://localhost:8080/"
        },
        "outputId": "6482f18a-a710-4b84-9810-056a7eaec7f5"
      },
      "outputs": [
        {
          "output_type": "execute_result",
          "data": {
            "text/plain": [
              "array([[6],\n",
              "       [9],\n",
              "       [9],\n",
              "       [4],\n",
              "       [1]], dtype=uint8)"
            ]
          },
          "metadata": {},
          "execution_count": 3
        }
      ],
      "source": [
        "y_train[:5]"
      ]
    },
    {
      "cell_type": "markdown",
      "metadata": {
        "id": "e9qR8X-ZSTSI"
      },
      "source": [
        "y_train and y_test is a 2D arrays <br>\n",
        "In-order to use the y_train and y_test labels for each image we need to flatten y_train and y_test to 1D array\n"
      ]
    },
    {
      "cell_type": "code",
      "source": [
        "y_train = y_train.flatten()\n",
        "y_train[:5]"
      ],
      "metadata": {
        "id": "-7VCYow2ikFv",
        "colab": {
          "base_uri": "https://localhost:8080/"
        },
        "outputId": "eceaedbb-ebdd-40b4-d2a4-8f735d6e2121"
      },
      "execution_count": 4,
      "outputs": [
        {
          "output_type": "execute_result",
          "data": {
            "text/plain": [
              "array([6, 9, 9, 4, 1], dtype=uint8)"
            ]
          },
          "metadata": {},
          "execution_count": 4
        }
      ]
    },
    {
      "cell_type": "code",
      "source": [
        "y_test = y_test.flatten()\n",
        "y_test[:5]"
      ],
      "metadata": {
        "id": "ekBAe5cWipcZ",
        "colab": {
          "base_uri": "https://localhost:8080/"
        },
        "outputId": "9354689b-3038-49b4-f04e-88b9a8dd238e"
      },
      "execution_count": 5,
      "outputs": [
        {
          "output_type": "execute_result",
          "data": {
            "text/plain": [
              "array([3, 8, 8, 0, 6], dtype=uint8)"
            ]
          },
          "metadata": {},
          "execution_count": 5
        }
      ]
    },
    {
      "cell_type": "markdown",
      "source": [
        "To better understand the labels we will define an array classes with each index as class name. "
      ],
      "metadata": {
        "id": "h6oDEGrEGh7p"
      }
    },
    {
      "cell_type": "code",
      "execution_count": 6,
      "metadata": {
        "id": "KUZL2IVrSTSL"
      },
      "outputs": [],
      "source": [
        "classes = [\"airplane\",\"automobile\",\"bird\",\"cat\",\"deer\",\"dog\",\"frog\",\"horse\",\"ship\",\"truck\"]"
      ]
    },
    {
      "cell_type": "markdown",
      "metadata": {
        "id": "JNfUQc0-STSM"
      },
      "source": [
        "A quick view at the images in the dataset with the class name."
      ]
    },
    {
      "cell_type": "code",
      "execution_count": 7,
      "metadata": {
        "id": "2b5jZ-7KSTSM"
      },
      "outputs": [],
      "source": [
        "def plot_images(x, y, index):\n",
        "    plt.imshow(x[index])\n",
        "    plt.title(classes[y[index]])"
      ]
    },
    {
      "cell_type": "code",
      "execution_count": 8,
      "metadata": {
        "id": "xdLVrSN7STSM",
        "scrolled": true,
        "colab": {
          "base_uri": "https://localhost:8080/",
          "height": 281
        },
        "outputId": "61643691-5109-40ff-a56d-4911e5ebadc3"
      },
      "outputs": [
        {
          "output_type": "display_data",
          "data": {
            "image/png": "[encoded data removed]",
            "text/plain": [
              "<Figure size 432x288 with 1 Axes>"
            ]
          },
          "metadata": {
            "needs_background": "light"
          }
        }
      ],
      "source": [
        "plot_images(x_train, y_train ,7)"
      ]
    },
    {
      "cell_type": "code",
      "execution_count": 9,
      "metadata": {
        "id": "Xc2111mKSTSM",
        "colab": {
          "base_uri": "https://localhost:8080/",
          "height": 281
        },
        "outputId": "03dcbbaa-8df5-4fad-c24c-fd478d8a5ddb"
      },
      "outputs": [
        {
          "output_type": "display_data",
          "data": {
            "image/png": "[encoded data removed]",
            "text/plain": [
              "<Figure size 432x288 with 1 Axes>"
            ]
          },
          "metadata": {
            "needs_background": "light"
          }
        }
      ],
      "source": [
        "plot_images(x_train, y_train, 19)"
      ]
    },
    {
      "cell_type": "markdown",
      "metadata": {
        "id": "cvQCxTpQSTSN"
      },
      "source": [
        "\n",
        "Every image in the dataset have 3 color channels (Red, Green, Blue) and every colour channel can range from 0 to 255. Therefore in-order to normalize the data between 0 and 1, we will divide the dataset by 255. "
      ]
    },
    {
      "cell_type": "code",
      "execution_count": 10,
      "metadata": {
        "id": "SePqLz53STSN"
      },
      "outputs": [],
      "source": [
        "x_train = x_train / 255.0\n",
        "x_test = x_test / 255.0"
      ]
    },
    {
      "cell_type": "markdown",
      "metadata": {
        "id": "Jq1F9fxbSTSN"
      },
      "source": [
        "Now, we will build a neural network using **Sequential model** in Keras library in Tensorflow. <br>\n",
        "\n",
        "In this project we don't have multiple input layers and output layers so it is best to use Sequential model.<br>\n",
        "\n",
        "*Sequential model is a linear stack of layers.*\n",
        "\n",
        "It will help us to create multiple layers in our neural network.<br>\n",
        "\n",
        "We also need to provide the activation function for each layer.\n",
        "\n",
        "For the hidden layers, we will provide the activation function **ReLu**<br>\n",
        ">![picture](https://drive.google.com/uc?export=view&id=1cpkjfral2lPBINa2-FPIgShpjMbdn5Em) <br>\n",
        "\n",
        "For the output layer , we will provide the activation function **sigmoid**\n",
        ">![picture](https://drive.google.com/uc?export=view&id=1mJeHlyCzz_LLF09LISmSIWovsuI3f_H0) <br>\n",
        "\n",
        "where z and x are the input.\n",
        "\n",
        "\n",
        "\n"
      ]
    },
    {
      "cell_type": "code",
      "execution_count": 11,
      "metadata": {
        "id": "x0yvsWwPSTSN",
        "scrolled": true
      },
      "outputs": [],
      "source": [
        "model_1 = models.Sequential([\n",
        "        layers.Flatten(input_shape=(32,32,3)),\n",
        "        layers.Dense(4000, activation='relu'),\n",
        "        layers.Dense(1000, activation='relu'),\n",
        "        layers.Dense(10, activation='sigmoid')    \n",
        "    ])"
      ]
    },
    {
      "cell_type": "markdown",
      "source": [
        "Now we will compile our model using the function compile in the Sequential model.<br>\n",
        "In-order to use the compile function we need to provide which optimizer to use and which loss function to be used.\n",
        "\n",
        "For this project we are using the optimizer **adam**<br>\n",
        "\n",
        "*Adam optimization is a stochastic gradient descent method that is based on adaptive estimation of first-order and second-order moments.\n",
        "This algorithm can be used instead of the classical stochastic gradient descent procedure to update network weights iterative based in training data. [1]*<br> \n",
        "\n",
        "The loss function we are using is **sparse categorical crossentropy**<br>\n",
        "\n",
        "\\begin{equation*}\n",
        "J(w_i) = - \\bigg( \\frac{1}{m} \\sum_{x, y} y \\ln(h_{w_i}(x)) + (1 - y) \\ln(1 - h_{w_i}(x)) \\bigg )\n",
        "\\end{equation*}\n"
      ],
      "metadata": {
        "id": "I-NPiIxfvrMA"
      }
    },
    {
      "cell_type": "code",
      "source": [
        "model_1.compile(optimizer='adam',\n",
        "              loss='sparse_categorical_crossentropy',\n",
        "              metrics=['accuracy'])"
      ],
      "metadata": {
        "id": "1sDRIWe8vmfo"
      },
      "execution_count": 12,
      "outputs": []
    },
    {
      "cell_type": "markdown",
      "source": [
        "Finally, we will train this dataset to 10 epochs. One Epoch is simply one full cycle of training the whole dataset. "
      ],
      "metadata": {
        "id": "cmzhblxgzLhx"
      }
    },
    {
      "cell_type": "code",
      "source": [
        "model_1.fit(x_train, y_train, epochs=10)"
      ],
      "metadata": {
        "colab": {
          "base_uri": "https://localhost:8080/"
        },
        "id": "i7_RmV-WvnM_",
        "outputId": "8e4c5349-434a-41ce-c74c-1096060c4af5"
      },
      "execution_count": 13,
      "outputs": [
        {
          "output_type": "stream",
          "name": "stdout",
          "text": [
            "Epoch 1/10\n",
            "1563/1563 [==============================] - 17s 10ms/step - loss: 1.8870 - accuracy: 0.3308\n",
            "Epoch 2/10\n",
            "1563/1563 [==============================] - 16s 10ms/step - loss: 1.6617 - accuracy: 0.4038\n",
            "Epoch 3/10\n",
            "1563/1563 [==============================] - 15s 10ms/step - loss: 1.5729 - accuracy: 0.4356\n",
            "Epoch 4/10\n",
            "1563/1563 [==============================] - 16s 10ms/step - loss: 1.5250 - accuracy: 0.4543\n",
            "Epoch 5/10\n",
            "1563/1563 [==============================] - 16s 10ms/step - loss: 1.4854 - accuracy: 0.4693\n",
            "Epoch 6/10\n",
            "1563/1563 [==============================] - 16s 10ms/step - loss: 1.4504 - accuracy: 0.4815\n",
            "Epoch 7/10\n",
            "1563/1563 [==============================] - 16s 10ms/step - loss: 1.4228 - accuracy: 0.4912\n",
            "Epoch 8/10\n",
            "1563/1563 [==============================] - 16s 10ms/step - loss: 1.3966 - accuracy: 0.4992\n",
            "Epoch 9/10\n",
            "1563/1563 [==============================] - 16s 10ms/step - loss: 1.3756 - accuracy: 0.5063\n",
            "Epoch 10/10\n",
            "1563/1563 [==============================] - 16s 10ms/step - loss: 1.3576 - accuracy: 0.5163\n"
          ]
        },
        {
          "output_type": "execute_result",
          "data": {
            "text/plain": [
              "<keras.callbacks.History at 0x7f96be382290>"
            ]
          },
          "metadata": {},
          "execution_count": 13
        }
      ]
    },
    {
      "cell_type": "code",
      "execution_count": 14,
      "metadata": {
        "colab": {
          "base_uri": "https://localhost:8080/"
        },
        "id": "fd0S7cDMSTSO",
        "outputId": "b0c85d3b-3e66-4293-9c9f-cddbcbf08c62"
      },
      "outputs": [
        {
          "output_type": "stream",
          "name": "stdout",
          "text": [
            "1563/1563 [==============================] - 9s 5ms/step - loss: 1.3199 - accuracy: 0.5267\n",
            "Loss and Accuracy on training dataset:  [1.319903016090393, 0.5266799926757812]\n"
          ]
        }
      ],
      "source": [
        "print(\"Loss and Accuracy on training dataset: \",model_1.evaluate(x_train,y_train))"
      ]
    },
    {
      "cell_type": "markdown",
      "metadata": {
        "id": "BTRLFmOTSTSO"
      },
      "source": [
        "Even after using multiple layers with cross entropy function, the accuracy is still 51% with a high loss value.\n",
        "\n",
        "Therefore to improve the accuracy of out model we need to use Convolutional layers and make a Convolutional neural network. \n",
        "\n",
        "Images with higher resolution for example Full HD image of size 1920x1080 will have 2073600 pixels. This is extremly large input dataset considered this is only one image. Training will require thousands of images. This requires a lot of computing power.\n",
        "\n",
        "The advantage of Convolutional Neural Network (CNN) is that it reduces the dimensions of the image while keeping all the important features of the image required to train the model inorder to make good prediction. Therefore, CNN makes the model faster.\n",
        "\n",
        ">![picture](https://drive.google.com/uc?export=view&id=1VKmXdUHdjv1IjTtlNTyo-HVk1QRY2De8)<br> [Reference: https://developers.google.com/machine-learning/practica/image-classification/images/cnn_architecture.svg]"
      ]
    },
    {
      "cell_type": "markdown",
      "source": [
        "#Elements of a Convolutional Neural Network\n",
        "##Kernel\n",
        "Kernal is a filter that extracts the features from the image. It is a matrix that moves over the input data and performs dot product with each sub-region it is superimposed upon and gets the final output inform of a matrix which known as a feature map. \n",
        "To find the size of feature map we can use the formula \n",
        "\n",
        "\\begin{equation*}\n",
        "O = \\frac{I - K + 2P}{S} + 1 \n",
        "\\end{equation*}<br>\n",
        "\n",
        "\n",
        "\n",
        "*   O : Feature map size\n",
        "*   I : Size of the input\n",
        "*   K : Size of the kernel\n",
        "*   P : Size of padding \n",
        "*   S : Stride<br>\n",
        "\n",
        "\n",
        "\n",
        ">![picture](https://drive.google.com/uc?export=view&id=168uwTgkTnZnsZ-EvDf1SF2HRNzsI65em)<br> [Reference: Going Deep in Medical Image Analysis: Concepts, Methods, Challenges and Future Directions - Scientific Figure on ResearchGate. Available from: https://www.researchgate.net/figure/Working-of-a-convolutional-layer-CNNs-force-kernel-weights-to-become-network-parameters_fig4_331165618 [accessed 13 Dec, 2021]]\n",
        "\n",
        "##Stride\n",
        "The amount of movement of kernel over the input image is known as stride. By default the stride is 1 in both horizontal and vertical movements.\n",
        "\n",
        "##Padding\n",
        "Padding adds a layer of zeros around the input matrix which helps to control the spatial size of the output. Pooling helps to preserve the spatial size from input matrix  till output matrix. \n",
        "\n",
        "##MaxPool\n",
        "Maxpooling helps us to further scale down our feature map.\n",
        "We will use max pooling of size 2x2.\n",
        "\n",
        "##Flatten\n",
        "In the end we flatten the image in order to perform classification.\n",
        "\n"
      ],
      "metadata": {
        "id": "_dkc2T518iZm"
      }
    },
    {
      "cell_type": "code",
      "execution_count": 15,
      "metadata": {
        "id": "K2-7GZELSTSO"
      },
      "outputs": [],
      "source": [
        "model_2 = models.Sequential([\n",
        "    layers.Conv2D(filters=32, kernel_size=(3, 3), activation='relu', input_shape=(32, 32, 3)),\n",
        "    layers.MaxPooling2D((2, 2)),\n",
        "    \n",
        "    layers.Conv2D(filters=64, kernel_size=(3, 3), activation='relu'),\n",
        "    layers.MaxPooling2D((2, 2)),\n",
        "\n",
        "    layers.Conv2D(filters=128, kernel_size=(3, 3), activation='relu'),\n",
        "    layers.MaxPooling2D((2, 2)),\n",
        "    \n",
        "    layers.Flatten(),\n",
        "    layers.Dense(128, activation='relu'),\n",
        "    layers.Dense(64, activation='relu'),\n",
        "    layers.Dense(10, activation='sigmoid')\n",
        "])"
      ]
    },
    {
      "cell_type": "code",
      "execution_count": 16,
      "metadata": {
        "id": "n2Yqna8aSTSO"
      },
      "outputs": [],
      "source": [
        "model_2.compile(optimizer='adam',\n",
        "              loss='sparse_categorical_crossentropy',\n",
        "              metrics=['accuracy'])"
      ]
    },
    {
      "cell_type": "code",
      "execution_count": 17,
      "metadata": {
        "colab": {
          "base_uri": "https://localhost:8080/"
        },
        "id": "Xot2eB4iSTSP",
        "scrolled": false,
        "outputId": "0b5d0e33-f0f8-4851-ed19-f6165808618b"
      },
      "outputs": [
        {
          "output_type": "stream",
          "name": "stdout",
          "text": [
            "Epoch 1/10\n",
            "1563/1563 [==============================] - 14s 8ms/step - loss: 1.5625 - accuracy: 0.4226\n",
            "Epoch 2/10\n",
            "1563/1563 [==============================] - 12s 8ms/step - loss: 1.1503 - accuracy: 0.5911\n",
            "Epoch 3/10\n",
            "1563/1563 [==============================] - 12s 8ms/step - loss: 0.9767 - accuracy: 0.6555\n",
            "Epoch 4/10\n",
            "1563/1563 [==============================] - 13s 8ms/step - loss: 0.8623 - accuracy: 0.6992\n",
            "Epoch 5/10\n",
            "1563/1563 [==============================] - 13s 8ms/step - loss: 0.7767 - accuracy: 0.7272\n",
            "Epoch 6/10\n",
            "1563/1563 [==============================] - 13s 8ms/step - loss: 0.7056 - accuracy: 0.7523\n",
            "Epoch 7/10\n",
            "1563/1563 [==============================] - 13s 8ms/step - loss: 0.6570 - accuracy: 0.7687\n",
            "Epoch 8/10\n",
            "1563/1563 [==============================] - 13s 9ms/step - loss: 0.6006 - accuracy: 0.7878\n",
            "Epoch 9/10\n",
            "1563/1563 [==============================] - 13s 8ms/step - loss: 0.5521 - accuracy: 0.8063\n",
            "Epoch 10/10\n",
            "1563/1563 [==============================] - 13s 8ms/step - loss: 0.5146 - accuracy: 0.8177\n"
          ]
        },
        {
          "output_type": "execute_result",
          "data": {
            "text/plain": [
              "<keras.callbacks.History at 0x7f96be2c1390>"
            ]
          },
          "metadata": {},
          "execution_count": 17
        }
      ],
      "source": [
        "model_2.fit(x_train, y_train, epochs=10)"
      ]
    },
    {
      "cell_type": "code",
      "execution_count": 18,
      "metadata": {
        "id": "On4stHXhSTSP",
        "scrolled": true,
        "colab": {
          "base_uri": "https://localhost:8080/"
        },
        "outputId": "c01c740c-34c3-427d-ff98-c799858bdb4d"
      },
      "outputs": [
        {
          "output_type": "stream",
          "name": "stdout",
          "text": [
            "1563/1563 [==============================] - 7s 5ms/step - loss: 0.4732 - accuracy: 0.8338\n",
            "Loss and Accuracy on training dataset:  [0.47315651178359985, 0.8338199853897095]\n"
          ]
        }
      ],
      "source": [
        "print(\"Loss and Accuracy on training dataset: \",model_2.evaluate(x_train,y_train))"
      ]
    },
    {
      "cell_type": "markdown",
      "metadata": {
        "id": "ZPFJRY-iSTSP"
      },
      "source": [
        "---\n",
        "#Evaluation\n",
        "---\n",
        "##Difference before and after using Convolutional Neural Network.\n",
        "**Highest accuracy achieved using Cross Entropy without Convolutional layers is 51%<br>\n",
        "Highest accuracy achieved using Cross Entropy with Convolutional layers is 84%<br>\n",
        "This is a significant increase of 64.7%**\n",
        "\n",
        "Thus, Convolutional Neural Network is the best approach for image classification because it is faster and very effective for larger datasets.\n",
        "\n",
        "###How this model can be further improved?\n",
        "This model can be further improved using more number of layers in the neural network and increasing the number of kernel filters will also imporve accuracy."
      ]
    },
    {
      "cell_type": "code",
      "execution_count": 19,
      "metadata": {
        "id": "s5ZxeibVSTSP"
      },
      "outputs": [],
      "source": [
        "y_pred = model_2.predict(x_test)\n",
        "y_classes = [np.argmax(element) for element in y_pred]"
      ]
    },
    {
      "cell_type": "markdown",
      "source": [
        "For a quick check if the model predicts the image correctly we can pass any index value to check the image and then pass the same index in the classes dataset to check if it is correctly predicted."
      ],
      "metadata": {
        "id": "Jon6YEuTO8Cd"
      }
    },
    {
      "cell_type": "code",
      "execution_count": 28,
      "metadata": {
        "colab": {
          "base_uri": "https://localhost:8080/",
          "height": 336
        },
        "id": "Bi6dHV5wSTSQ",
        "outputId": "132c3f68-739c-4609-bcb8-a8daa5f9c70f"
      },
      "outputs": [
        {
          "output_type": "stream",
          "name": "stdout",
          "text": [
            "Enter an index between 0-9: \n",
            "8\n",
            "Actual image and label: \n"
          ]
        },
        {
          "output_type": "display_data",
          "data": {
            "image/png": "[encoded data removed]",
            "text/plain": [
              "<Figure size 432x288 with 1 Axes>"
            ]
          },
          "metadata": {
            "needs_background": "light"
          }
        }
      ],
      "source": [
        "print(\"Enter an index between 0-9: \")\n",
        "val = input()\n",
        "print(\"Actual image and label: \")\n",
        "plot_images(x_test, y_test,int(val))\n"
      ]
    },
    {
      "cell_type": "code",
      "source": [
        "print(\"Predicted label: \",classes[y_classes[int(val)]])"
      ],
      "metadata": {
        "colab": {
          "base_uri": "https://localhost:8080/"
        },
        "id": "ogbnRaCIQTNQ",
        "outputId": "22d8a74e-ee46-4d72-a204-40af4a9cd87a"
      },
      "execution_count": 29,
      "outputs": [
        {
          "output_type": "stream",
          "name": "stdout",
          "text": [
            "Predicted label:  cat\n"
          ]
        }
      ]
    },
    {
      "cell_type": "markdown",
      "source": [
        "## A heatmap comparing the predictions for each of the 10 classes."
      ],
      "metadata": {
        "id": "341BAqa4Tkc6"
      }
    },
    {
      "cell_type": "code",
      "source": [
        "cm = tf.math.confusion_matrix(labels = y_test, predictions = y_classes)"
      ],
      "metadata": {
        "id": "F9wMfB_2nqM7"
      },
      "execution_count": 22,
      "outputs": []
    },
    {
      "cell_type": "code",
      "source": [
        "import seaborn as sn\n",
        "plt.figure(figsize = (12,10))\n",
        "sn.heatmap(cm, annot=True, fmt='d')\n",
        "plt.xlabel('Predicted')\n",
        "plt.ylabel('Truth')"
      ],
      "metadata": {
        "id": "lYVKOW4Pn1QP",
        "colab": {
          "base_uri": "https://localhost:8080/",
          "height": 624
        },
        "outputId": "5cc2800c-7b39-4455-887a-2023e41b95d2"
      },
      "execution_count": 23,
      "outputs": [
        {
          "output_type": "execute_result",
          "data": {
            "text/plain": [
              "Text(87.0, 0.5, 'Truth')"
            ]
          },
          "metadata": {},
          "execution_count": 23
        },
        {
          "output_type": "display_data",
          "data": {
            "image/png": "[encoded data removed]",
            "text/plain": [
              "<Figure size 864x720 with 2 Axes>"
            ]
          },
          "metadata": {
            "needs_background": "light"
          }
        }
      ]
    },
    {
      "cell_type": "markdown",
      "source": [
        "###References\n",
        "\n",
        "\n",
        "*   https://cs231n.github.io/convolutional-networks/#layers\n",
        "*   https://www.cs.toronto.edu/~kriz/cifar.html\n",
        "*   https://towardsdatascience.com/a-comprehensive-guide-to-convolutional-neural-networks-the-eli5-way-3bd2b1164a53\n",
        "\n"
      ],
      "metadata": {
        "id": "tl4Ia2ITaIGM"
      }
    }
  ],
  "metadata": {
    "accelerator": "GPU",
    "colab": {
      "name": "CMPUT 366 Project (ksansanw).ipynb",
      "provenance": [],
      "collapsed_sections": []
    },
    "kernelspec": {
      "display_name": "Python 3",
      "language": "python",
      "name": "python3"
    },
    "language_info": {
      "codemirror_mode": {
        "name": "ipython",
        "version": 3
      },
      "file_extension": ".py",
      "mimetype": "text/x-python",
      "name": "python",
      "nbconvert_exporter": "python",
      "pygments_lexer": "ipython3",
      "version": "3.8.5"
    }
  },
  "nbformat": 4,
  "nbformat_minor": 0
}